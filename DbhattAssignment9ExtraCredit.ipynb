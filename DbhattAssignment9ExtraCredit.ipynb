{
 "cells": [
  {
   "cell_type": "code",
   "execution_count": 1,
   "id": "21631246",
   "metadata": {},
   "outputs": [
    {
     "name": "stdout",
     "output_type": "stream",
     "text": [
      "Please enter the n value: 20\n",
      "The smallest positive number that is evenly divisible by all the numbers from 1 to  20 is 232792560\n"
     ]
    }
   ],
   "source": [
    "#taking input from user\n",
    "upper = int(input('Please enter the n value: '))\n",
    "\n",
    "#creating a list of integers from 1 to upper\n",
    "numbers = list(range(1, upper + 1))\n",
    "\n",
    "n = 1\n",
    "\n",
    "#iterating from 1 to upper-1\n",
    "for i in range(1, upper):\n",
    "\n",
    "    n = n * numbers[i]\n",
    "\n",
    "#iterating from 0 to i-1\n",
    "    for j in range(i):\n",
    "\n",
    "        if numbers[i] % numbers[j] == 0:\n",
    "\n",
    "            n =int( n / numbers[j] )\n",
    "\n",
    "            numbers[i] =int( numbers[i] / numbers[j] )\n",
    "\n",
    "print(\"The smallest positive number that is evenly divisible by all the numbers from 1 to \",upper,\"is\",n)"
   ]
  },
  {
   "cell_type": "code",
   "execution_count": null,
   "id": "44e2503e",
   "metadata": {},
   "outputs": [],
   "source": []
  }
 ],
 "metadata": {
  "kernelspec": {
   "display_name": "Python 3 (ipykernel)",
   "language": "python",
   "name": "python3"
  },
  "language_info": {
   "codemirror_mode": {
    "name": "ipython",
    "version": 3
   },
   "file_extension": ".py",
   "mimetype": "text/x-python",
   "name": "python",
   "nbconvert_exporter": "python",
   "pygments_lexer": "ipython3",
   "version": "3.9.12"
  }
 },
 "nbformat": 4,
 "nbformat_minor": 5
}
