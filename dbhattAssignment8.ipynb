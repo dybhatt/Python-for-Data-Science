{
 "cells": [
  {
   "cell_type": "code",
   "execution_count": 4,
   "id": "9b8515de",
   "metadata": {},
   "outputs": [
    {
     "name": "stdout",
     "output_type": "stream",
     "text": [
      "University Size: 3009\n",
      "There are more undergraduate students than graduate students\n",
      "College name is:  Ithaca College\n",
      "Collge size is:  6769\n"
     ]
    }
   ],
   "source": [
    "class University:\n",
    "    def __init__(self, university_name, location, undergraduate_students, graduate_students):\n",
    "        self.university_name = university_name\n",
    "        self.location = location\n",
    "        self.undergraduate_students = undergraduate_students\n",
    "        self.graduate_students = graduate_students\n",
    "\n",
    "    def print_university_size(self):\n",
    "        total = self.undergraduate_students + self.graduate_students\n",
    "        print('University Size:',total)\n",
    "\n",
    "    def is_undergraduate_greater(self):\n",
    "        if self.undergraduate_students > self.graduate_students:\n",
    "            print('There are more undergraduate students than graduate students')\n",
    "        else:\n",
    "            print('There are more graduate students than undergraduate students')\n",
    "\n",
    "SPU = University('Saint Peters University', 'New Jersey', 2134, 875)\n",
    "SPU.print_university_size()\n",
    "SPU.is_undergraduate_greater()\n",
    "\n",
    "class College(University):\n",
    "    def __init__(self,college_name,no_of_students):\n",
    "        self.college_name=college_name\n",
    "        self.no_of_students=no_of_students\n",
    "    def print_college_size(self):\n",
    "        print(\"Collge size is: \",self.no_of_students)\n",
    "    def print_college_name(self):\n",
    "        print(\"College name is: \",self.college_name)\n",
    "c=College(\"Ithaca College\",6769)\n",
    "c.print_college_name()\n",
    "c.print_college_size()"
   ]
  },
  {
   "cell_type": "code",
   "execution_count": null,
   "id": "9e93d965",
   "metadata": {},
   "outputs": [],
   "source": []
  }
 ],
 "metadata": {
  "kernelspec": {
   "display_name": "Python 3 (ipykernel)",
   "language": "python",
   "name": "python3"
  },
  "language_info": {
   "codemirror_mode": {
    "name": "ipython",
    "version": 3
   },
   "file_extension": ".py",
   "mimetype": "text/x-python",
   "name": "python",
   "nbconvert_exporter": "python",
   "pygments_lexer": "ipython3",
   "version": "3.9.12"
  }
 },
 "nbformat": 4,
 "nbformat_minor": 5
}
