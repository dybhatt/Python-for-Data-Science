{
 "cells": [
  {
   "cell_type": "code",
   "execution_count": 2,
   "id": "a69baf3c",
   "metadata": {},
   "outputs": [
    {
     "name": "stdout",
     "output_type": "stream",
     "text": [
      "233168\n"
     ]
    }
   ],
   "source": [
    "#setting first variable as zero\n",
    "total_sum = 0\n",
    "#creating loop to add any integer that is divisible either by 3 or 5\n",
    "for i in range(1000):\n",
    "    if (i%3 == 0 or i%5 == 0):\n",
    "        total_sum = total_sum+i\n",
    "#printing the total sum\n",
    "print(total_sum)"
   ]
  },
  {
   "cell_type": "code",
   "execution_count": null,
   "id": "91e4ca81",
   "metadata": {},
   "outputs": [],
   "source": []
  }
 ],
 "metadata": {
  "kernelspec": {
   "display_name": "Python 3 (ipykernel)",
   "language": "python",
   "name": "python3"
  },
  "language_info": {
   "codemirror_mode": {
    "name": "ipython",
    "version": 3
   },
   "file_extension": ".py",
   "mimetype": "text/x-python",
   "name": "python",
   "nbconvert_exporter": "python",
   "pygments_lexer": "ipython3",
   "version": "3.9.12"
  }
 },
 "nbformat": 4,
 "nbformat_minor": 5
}
